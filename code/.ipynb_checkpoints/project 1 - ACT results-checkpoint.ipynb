{
 "cells": [
  {
   "cell_type": "markdown",
   "metadata": {},
   "source": [
    "<img src=\"http://imgur.com/1ZcRyrc.png\" style=\"float: left; margin: 20px; height: 55px\">\n",
    "\n",
    "# Project 1: Standardized Test Analysis"
   ]
  },
  {
   "cell_type": "markdown",
   "metadata": {},
   "source": [
    "--- \n",
    "# Part 1\n",
    "\n",
    "Part 1 requires knowledge of basic Python.\n",
    "\n",
    "---"
   ]
  },
  {
   "cell_type": "markdown",
   "metadata": {},
   "source": [
    "## Problem Statement"
   ]
  },
  {
   "cell_type": "markdown",
   "metadata": {},
   "source": [
    "Decide on your problem statement that will guide your analysis for this project. For guidelines, sample prompts, or inspiration, check out the README.\n",
    "\n",
    "**To-Do:** *Replace this cell with your problem statement.*"
   ]
  },
  {
   "cell_type": "markdown",
   "metadata": {},
   "source": [
    "### Contents:\n",
    "- [Background](#Background)\n",
    "- [Data Import & Cleaning](#Data-Import-and-Cleaning)\n",
    "- [Exploratory Data Analysis](#Exploratory-Data-Analysis)\n",
    "- [Data Visualization](#Visualize-the-Data)\n",
    "- [Conclusions and Recommendations](#Conclusions-and-Recommendations)"
   ]
  },
  {
   "cell_type": "markdown",
   "metadata": {},
   "source": [
    "## Background"
   ]
  },
  {
   "cell_type": "markdown",
   "metadata": {},
   "source": [
    "The SAT and ACT are standardized tests that many colleges and universities in the United States require for their admissions process. This score is used along with other materials such as grade point average (GPA) and essay responses to determine whether or not a potential student will be accepted to the university.\n",
    "\n",
    "The SAT has two sections of the test: Evidence-Based Reading and Writing and Math ([*source*](https://www.princetonreview.com/college/sat-sections)). The ACT has 4 sections: English, Mathematics, Reading, and Science, with an additional optional writing section ([*source*](https://www.act.org/content/act/en/products-and-services/the-act/scores/understanding-your-scores.html)). They have different score ranges, which you can read more about on their websites or additional outside sources (a quick Google search will help you understand the scores for each test):\n",
    "* [SAT](https://collegereadiness.collegeboard.org/sat)\n",
    "* [ACT](https://www.act.org/content/act/en.html)\n",
    "\n",
    "Standardized tests have long been a controversial topic for students, administrators, and legislators. Since the 1940's, an increasing number of colleges have been using scores from sudents' performances on tests like the SAT and the ACT as a measure for college readiness and aptitude ([*source*](https://www.minotdailynews.com/news/local-news/2017/04/a-brief-history-of-the-sat-and-act/)). Supporters of these tests argue that these scores can be used as an objective measure to determine college admittance. Opponents of these tests claim that these tests are not accurate measures of students potential or ability and serve as an inequitable barrier to entry. Lately, more and more schools are opting to drop the SAT/ACT requirement for their Fall 2021 applications ([*read more about this here*](https://www.cnn.com/2020/04/14/us/coronavirus-colleges-sat-act-test-trnd/index.html))."
   ]
  },
  {
   "cell_type": "markdown",
   "metadata": {},
   "source": [
    "**To-Do:** *Fill out this cell (or edit the above cell) with any other background or information that is necessary for your problem statement.*"
   ]
  },
  {
   "cell_type": "markdown",
   "metadata": {},
   "source": [
    "### Choose your Data\n",
    "\n",
    "There are 10 datasets included in the [`data`](./data/) folder for this project. You are required to pick **at least two** of these to complete your analysis. Feel free to use more than two if you would like, or add other relevant datasets you find online.\n",
    "\n",
    "* [`act_2017.csv`](./data/act_2017.csv): 2017 ACT Scores by State\n",
    "* [`act_2018.csv`](./data/act_2018.csv): 2018 ACT Scores by State\n",
    "* [`act_2019.csv`](./data/act_2019.csv): 2019 ACT Scores by State\n",
    "* [`act_2019_ca.csv`](./data/act_2019_ca.csv): 2019 ACT Scores in California by School\n",
    "* [`sat_2017.csv`](./data/sat_2017.csv): 2017 SAT Scores by State\n",
    "* [`sat_2018.csv`](./data/sat_2018.csv): 2018 SAT Scores by State\n",
    "* [`sat_2019.csv`](./data/sat_2019.csv): 2019 SAT Scores by State\n",
    "* [`sat_2019_by_intended_college_major.csv`](./data/sat_2019_by_intended_college_major.csv): 2019 SAT Scores by Intended College Major\n",
    "* [`sat_2019_ca.csv`](./data/sat_2019_ca.csv): 2019 SAT Scores in California by School\n",
    "* [`sat_act_by_college.csv`](./data/sat_act_by_college.csv): Ranges of Accepted ACT & SAT Student Scores by Colleges"
   ]
  },
  {
   "cell_type": "markdown",
   "metadata": {},
   "source": [
    "**To-Do:** *Fill out this cell with the datasets you will use for your analysis. Write a brief description of the contents for each dataset that you choose.*"
   ]
  },
  {
   "cell_type": "markdown",
   "metadata": {},
   "source": [
    "### Outside Research"
   ]
  },
  {
   "cell_type": "markdown",
   "metadata": {},
   "source": [
    "Based on your problem statement and your chosen datasets, spend some time doing outside research on state policies or additional information that might be relevant. Summarize your findings below. If you bring in any outside tables or charts, make sure you are explicit about having borrowed them. If you quote any text, make sure that it renders as being quoted. **Make sure that you cite your sources.**"
   ]
  },
  {
   "cell_type": "markdown",
   "metadata": {},
   "source": [
    "**To-Do:** *Fill out this cell with outside research or any additional background information that will support your analysis.*"
   ]
  },
  {
   "cell_type": "markdown",
   "metadata": {},
   "source": [
    "### Coding Challenges\n",
    "\n",
    "1. Manually calculate mean:\n",
    "\n",
    "    Write a function that takes in values and returns the mean of the values. Create a list of numbers that you test on your function to check to make sure your function works!\n",
    "    \n",
    "    *Note*: Do not use any mean methods built-in to any Python libraries to do this! This should be done without importing any additional libraries."
   ]
  },
  {
   "cell_type": "code",
   "execution_count": 49,
   "metadata": {},
   "outputs": [
    {
     "data": {
      "text/plain": [
       "8.375"
      ]
     },
     "execution_count": 49,
     "metadata": {},
     "output_type": "execute_result"
    }
   ],
   "source": [
    "# Code:\n",
    "def mean_value(num_list:list):\n",
    "    res = 0\n",
    "    for num in num_list:\n",
    "        res += num\n",
    "    return res/(len(num_list))\n",
    "\n",
    "mean_value([1,2,4,5,7,2,3,43])\n",
    "    "
   ]
  },
  {
   "cell_type": "markdown",
   "metadata": {},
   "source": [
    "2. Manually calculate standard deviation:\n",
    "\n",
    "    The formula for standard deviation is below:\n",
    "\n",
    "    $$\\sigma = \\sqrt{\\frac{1}{n}\\sum_{i=1}^n(x_i - \\mu)^2}$$\n",
    "\n",
    "    Where $x_i$ represents each value in the dataset, $\\mu$ represents the mean of all values in the dataset and $n$ represents the number of values in the dataset.\n",
    "\n",
    "    Write a function that takes in values and returns the standard deviation of the values using the formula above. Hint: use the function you wrote above to calculate the mean! Use the list of numbers you created above to test on your function.\n",
    "    \n",
    "    *Note*: Do not use any standard deviation methods built-in to any Python libraries to do this! This should be done without importing any additional libraries."
   ]
  },
  {
   "cell_type": "code",
   "execution_count": 50,
   "metadata": {},
   "outputs": [
    {
     "data": {
      "text/plain": [
       "13.209253385411305"
      ]
     },
     "execution_count": 50,
     "metadata": {},
     "output_type": "execute_result"
    }
   ],
   "source": [
    "# Code:\n",
    "def std_dev(num_list:list):\n",
    "    val = 0\n",
    "    for num in num_list:   \n",
    "        val += (num - mean_value(num_list))**2\n",
    "    return (val/len(num_list))**0.5\n",
    "\n",
    "std_dev([1,2,4,5,7,2,3,43])"
   ]
  },
  {
   "cell_type": "markdown",
   "metadata": {},
   "source": [
    "3. Data cleaning function:\n",
    "    \n",
    "    Write a function that takes in a string that is a number and a percent symbol (ex. '50%', '30.5%', etc.) and converts this to a float that is the decimal approximation of the percent. For example, inputting '50%' in your function should return 0.5, '30.5%' should return 0.305, etc. Make sure to test your function to make sure it works!\n",
    "\n",
    "You will use these functions later on in the project!"
   ]
  },
  {
   "cell_type": "code",
   "execution_count": 51,
   "metadata": {},
   "outputs": [
    {
     "data": {
      "text/plain": [
       "0.305"
      ]
     },
     "execution_count": 51,
     "metadata": {},
     "output_type": "execute_result"
    }
   ],
   "source": [
    "# Code:\n",
    "def data_cleaning(string:str):\n",
    "    string_num = string.replace(\"%\",\"\")\n",
    "    return float(string_num) / 100\n",
    "\n",
    "data_cleaning(\"30.5%\")\n"
   ]
  },
  {
   "cell_type": "markdown",
   "metadata": {},
   "source": [
    "--- \n",
    "# Part 2\n",
    "\n",
    "Part 2 requires knowledge of Pandas, EDA, data cleaning, and data visualization.\n",
    "\n",
    "---"
   ]
  },
  {
   "cell_type": "markdown",
   "metadata": {},
   "source": [
    "*All libraries used should be added here*"
   ]
  },
  {
   "cell_type": "code",
   "execution_count": 52,
   "metadata": {},
   "outputs": [],
   "source": [
    "# Imports:\n",
    "import pandas as pd\n",
    "import numpy as np\n",
    "import matplotlib.pyplot as plt\n",
    "%matplotlib inline"
   ]
  },
  {
   "cell_type": "markdown",
   "metadata": {},
   "source": [
    "## Data Import and Cleaning"
   ]
  },
  {
   "cell_type": "markdown",
   "metadata": {},
   "source": [
    "### Data Import & Cleaning\n",
    "\n",
    "Import the datasets that you selected for this project and go through the following steps at a minimum. You are welcome to do further cleaning as you feel necessary:\n",
    "1. Display the data: print the first 5 rows of each dataframe to your Jupyter notebook.\n",
    "2. Check for missing values.\n",
    "3. Check for any obvious issues with the observations (keep in mind the minimum & maximum possible values for each test/subtest).\n",
    "4. Fix any errors you identified in steps 2-3.\n",
    "5. Display the data types of each feature.\n",
    "6. Fix any incorrect data types found in step 5.\n",
    "    - Fix any individual values preventing other columns from being the appropriate type.\n",
    "    - If your dataset has a column of percents (ex. '50%', '30.5%', etc.), use the function you wrote in Part 1 (coding challenges, number 3) to convert this to floats! *Hint*: use `.map()` or `.apply()`.\n",
    "7. Rename Columns.\n",
    "    - Column names should be all lowercase.\n",
    "    - Column names should not contain spaces (underscores will suffice--this allows for using the `df.column_name` method to access columns in addition to `df['column_name']`).\n",
    "    - Column names should be unique and informative.\n",
    "8. Drop unnecessary rows (if needed).\n",
    "9. Merge dataframes that can be merged.\n",
    "10. Perform any additional cleaning that you feel is necessary.\n",
    "11. Save your cleaned and merged dataframes as csv files."
   ]
  },
  {
   "cell_type": "code",
   "execution_count": 526,
   "metadata": {},
   "outputs": [],
   "source": [
    "# Code:\n",
    "\n",
    "act17 = pd.read_csv('../data/act_2017.csv')\n",
    "act18 = pd.read_csv('../data/act_2018.csv')\n",
    "act19 = pd.read_csv('../data/act_2019.csv')\n",
    "act19_ca = pd.read_csv('../data/act_2019_ca.csv')\n",
    "\n",
    "\n",
    "sat17 = pd.read_csv('../data/sat_2017.csv')\n",
    "sat18 = pd.read_csv('../data/sat_2018.csv')\n",
    "sat19 = pd.read_csv('../data/sat_2019.csv')\n",
    "sat18_ca = pd.read_csv('../data/sat_2019_ca.csv')\n",
    "sat_act_bycollege = pd.read_csv('../data/sat_act_by_college.csv')\n",
    "sat19_bymajor = pd.read_csv('../data/sat_2019_by_intended_college_major.csv')\n",
    "\n",
    "\n",
    "states_info = pd.read_csv('../data/states.csv')\n",
    "states_info.State = sorted(states_info.State.str.title())"
   ]
  },
  {
   "cell_type": "markdown",
   "metadata": {},
   "source": [
    "# --- External datasets cleanup ---"
   ]
  },
  {
   "cell_type": "code",
   "execution_count": 527,
   "metadata": {},
   "outputs": [
    {
     "data": {
      "text/plain": [
       "State         object\n",
       "State Code    object\n",
       "Region        object\n",
       "Division      object\n",
       "dtype: object"
      ]
     },
     "execution_count": 527,
     "metadata": {},
     "output_type": "execute_result"
    }
   ],
   "source": [
    "states_info.dtypes"
   ]
  },
  {
   "cell_type": "markdown",
   "metadata": {},
   "source": [
    "# --- ACT Analysis ---"
   ]
  },
  {
   "cell_type": "markdown",
   "metadata": {},
   "source": [
    "###### Removing illegal characters and changing Participation and Composite columns into FLOAT type "
   ]
  },
  {
   "cell_type": "code",
   "execution_count": 528,
   "metadata": {
    "scrolled": true
   },
   "outputs": [
    {
     "data": {
      "text/html": [
       "<div>\n",
       "<style scoped>\n",
       "    .dataframe tbody tr th:only-of-type {\n",
       "        vertical-align: middle;\n",
       "    }\n",
       "\n",
       "    .dataframe tbody tr th {\n",
       "        vertical-align: top;\n",
       "    }\n",
       "\n",
       "    .dataframe thead th {\n",
       "        text-align: right;\n",
       "    }\n",
       "</style>\n",
       "<table border=\"1\" class=\"dataframe\">\n",
       "  <thead>\n",
       "    <tr style=\"text-align: right;\">\n",
       "      <th></th>\n",
       "      <th>State</th>\n",
       "      <th>Participation</th>\n",
       "      <th>English</th>\n",
       "      <th>Math</th>\n",
       "      <th>Reading</th>\n",
       "      <th>Science</th>\n",
       "      <th>Composite</th>\n",
       "    </tr>\n",
       "  </thead>\n",
       "  <tbody>\n",
       "    <tr>\n",
       "      <th>0</th>\n",
       "      <td>Alabama</td>\n",
       "      <td>0.6</td>\n",
       "      <td>20.3</td>\n",
       "      <td>20.7</td>\n",
       "      <td>21.4</td>\n",
       "      <td>21.0</td>\n",
       "      <td>21.0</td>\n",
       "    </tr>\n",
       "  </tbody>\n",
       "</table>\n",
       "</div>"
      ],
      "text/plain": [
       "     State  Participation  English  Math  Reading  Science  Composite\n",
       "0  Alabama            0.6     20.3  20.7     21.4     21.0       21.0"
      ]
     },
     "execution_count": 528,
     "metadata": {},
     "output_type": "execute_result"
    }
   ],
   "source": [
    "#for act17\n",
    "act17.replace({'Composite': '[A-Za-z]'}, '', regex=True, inplace=True)\n",
    "act17.Participation = act17.Participation.map(data_cleaning)\n",
    "act17.Participation, act17.Composite = act17.Participation.astype(float), act17.Composite.astype(float)\n",
    "act17.State = sorted(act17.State.str.title())\n",
    "act17 = act17.drop_duplicates()\n",
    "act17 = act17.drop(act17[act17.State == \"National\"].index)\n",
    "act17.reset_index(drop=True, inplace=True)\n",
    "act17.head(1)\n",
    "#dropping inconsistent columns"
   ]
  },
  {
   "cell_type": "code",
   "execution_count": 529,
   "metadata": {},
   "outputs": [],
   "source": [
    "act17.drop(columns=['English', 'Math', \"Reading\", \"Science\"], inplace=True)"
   ]
  },
  {
   "cell_type": "code",
   "execution_count": 530,
   "metadata": {},
   "outputs": [],
   "source": [
    "#for act18\n",
    "\n",
    "act18.Participation = act18.Participation.map(data_cleaning)\n",
    "act18.Participation , act18.Composite =  act18.Participation.astype(float), act18.Composite.astype(float)\n",
    "act18.State = sorted(act18.State.str.title())\n",
    "act18 = act18.drop_duplicates()\n",
    "act18.reset_index(drop=True, inplace=True)\n",
    "# act18.head(1)"
   ]
  },
  {
   "cell_type": "code",
   "execution_count": 531,
   "metadata": {},
   "outputs": [
    {
     "data": {
      "text/html": [
       "<div>\n",
       "<style scoped>\n",
       "    .dataframe tbody tr th:only-of-type {\n",
       "        vertical-align: middle;\n",
       "    }\n",
       "\n",
       "    .dataframe tbody tr th {\n",
       "        vertical-align: top;\n",
       "    }\n",
       "\n",
       "    .dataframe thead th {\n",
       "        text-align: right;\n",
       "    }\n",
       "</style>\n",
       "<table border=\"1\" class=\"dataframe\">\n",
       "  <thead>\n",
       "    <tr style=\"text-align: right;\">\n",
       "      <th></th>\n",
       "      <th>State</th>\n",
       "      <th>Participation</th>\n",
       "      <th>Composite</th>\n",
       "    </tr>\n",
       "  </thead>\n",
       "  <tbody>\n",
       "    <tr>\n",
       "      <th>0</th>\n",
       "      <td>Alabama</td>\n",
       "      <td>1.0</td>\n",
       "      <td>18.9</td>\n",
       "    </tr>\n",
       "  </tbody>\n",
       "</table>\n",
       "</div>"
      ],
      "text/plain": [
       "     State  Participation  Composite\n",
       "0  Alabama            1.0       18.9"
      ]
     },
     "execution_count": 531,
     "metadata": {},
     "output_type": "execute_result"
    }
   ],
   "source": [
    "#for act19\n",
    "\n",
    "act19.Participation = act19.Participation.map(data_cleaning)\n",
    "act19.Participation , act19.Composite =  act19.Participation.astype(float), act19.Composite.astype(float)\n",
    "act19.State = sorted(act19.State.str.title())\n",
    "act19 = act19.drop_duplicates()\n",
    "act19 = act19.drop(act19[act19.State == \"National\"].index)\n",
    "act19.reset_index(drop=True, inplace=True)\n",
    "act19.head(1)"
   ]
  },
  {
   "cell_type": "markdown",
   "metadata": {},
   "source": [
    "###### Merge states_info into respective df"
   ]
  },
  {
   "cell_type": "code",
   "execution_count": 536,
   "metadata": {},
   "outputs": [],
   "source": [
    "#for act17\n",
    "act17 = act17.merge(states_info, on=\"State\")\n",
    "#for act18\n",
    "act18 = act18.merge(states_info, on=\"State\")\n",
    "#for act19\n",
    "act19 = act19.merge(states_info, on=\"State\")"
   ]
  },
  {
   "cell_type": "code",
   "execution_count": null,
   "metadata": {},
   "outputs": [],
   "source": []
  },
  {
   "cell_type": "markdown",
   "metadata": {},
   "source": [
    "###### plot barplot to compare Participation rate over 3 years in the 3 regions"
   ]
  },
  {
   "cell_type": "code",
   "execution_count": 537,
   "metadata": {},
   "outputs": [
    {
     "data": {
      "text/plain": [
       "<matplotlib.legend.Legend at 0x7fee508436d0>"
      ]
     },
     "execution_count": 537,
     "metadata": {},
     "output_type": "execute_result"
    },
    {
     "data": {
      "image/png": "[encoded data removed]",
      "text/plain": [
       "<Figure size 432x288 with 1 Axes>"
      ]
     },
     "metadata": {
      "needs_background": "light"
     },
     "output_type": "display_data"
    }
   ],
   "source": [
    "#first combine all df with Participation values only\n",
    "df1 = pd.merge(act17.drop(columns= [\"Division\", \"State Code\", \"Composite\"]), \n",
    "              act18.drop(columns= [\"Division\", \"State Code\", \"Composite\"]), on=\"State\")\n",
    "df = pd.merge(df1, act19.drop(columns= [\"Division\", \"State Code\", \"Composite\"]), on=\"State\")\n",
    "\n",
    "df.drop(columns = [\"Region_x\", \"Region_y\"], inplace=True)\n",
    "df.columns = [\"State\", \"Part_2017\", \"Part_2018\", \"Part_2019\", \"Region\"]\n",
    "x = df.groupby(\"Region\").mean() # assuming same weightage for each state is the same\n",
    "\n",
    "#start plotting bar chart\n",
    "xpos = np.arange(len(x.index))\n",
    "\n",
    "plt.bar(xpos-0.21, x[\"Part_2017\"], label=\"2017\", width = 0.2)\n",
    "plt.bar(xpos, x[\"Part_2018\"], label=\"2018\", width = 0.2)\n",
    "plt.bar(xpos+0.21, x[\"Part_2019\"], label=\"2019\", width = 0.2)\n",
    "\n",
    "plt.title(\"Participation Rate\")\n",
    "plt.xticks(xpos, x.index)\n",
    "plt.legend(loc=\"best\")"
   ]
  },
  {
   "cell_type": "markdown",
   "metadata": {},
   "source": [
    "###### plot barplot to compare Composite score over 3 years in the 3 regions"
   ]
  },
  {
   "cell_type": "code",
   "execution_count": 538,
   "metadata": {},
   "outputs": [
    {
     "data": {
      "text/plain": [
       "<matplotlib.legend.Legend at 0x7fee634e47c0>"
      ]
     },
     "execution_count": 538,
     "metadata": {},
     "output_type": "execute_result"
    },
    {
     "data": {
      "image/png": "[encoded data removed]",
      "text/plain": [
       "<Figure size 432x288 with 1 Axes>"
      ]
     },
     "metadata": {
      "needs_background": "light"
     },
     "output_type": "display_data"
    }
   ],
   "source": [
    "#first combine all df with Participation values only\n",
    "df1 = pd.merge(act17.drop(columns= [\"Division\", \"State Code\", \"Participation\"]), \n",
    "              act18.drop(columns= [\"Division\", \"State Code\", \"Participation\"]), on=\"State\")\n",
    "df = pd.merge(df1, act19.drop(columns= [\"Division\", \"State Code\", \"Participation\"]), on=\"State\")\n",
    "\n",
    "df.drop(columns = [\"Region_x\", \"Region_y\"], inplace=True)\n",
    "df.columns = [\"State\", \"Composite_2017\", \"Composite_2018\", \"Composite_2019\", \"Region\"]\n",
    "x = df.groupby(\"Region\").mean() # assuming same weightage for each state is the same\n",
    "\n",
    "#start plotting bar chart\n",
    "xpos = np.arange(len(x.index))\n",
    "\n",
    "plt.bar(xpos-0.21, x[\"Composite_2017\"], label=\"2017\", width = 0.2)\n",
    "plt.bar(xpos, x[\"Composite_2018\"], label=\"2018\", width = 0.2)\n",
    "plt.bar(xpos+0.21, x[\"Composite_2019\"], label=\"2019\", width = 0.2)\n",
    "\n",
    "plt.title(\"Composite Score\")\n",
    "plt.xticks(xpos, x.index)\n",
    "plt.legend(loc=\"best\")"
   ]
  },
  {
   "cell_type": "markdown",
   "metadata": {},
   "source": [
    "# Conclusion from the above 2 bar plots ==> Northeast has the lowest participation rate but the highest score."
   ]
  },
  {
   "cell_type": "code",
   "execution_count": null,
   "metadata": {},
   "outputs": [],
   "source": []
  },
  {
   "cell_type": "code",
   "execution_count": null,
   "metadata": {},
   "outputs": [],
   "source": []
  },
  {
   "cell_type": "code",
   "execution_count": 371,
   "metadata": {},
   "outputs": [
    {
     "data": {
      "image/png": "[encoded data removed]",
      "text/plain": [
       "<Figure size 432x288 with 1 Axes>"
      ]
     },
     "metadata": {
      "needs_background": "light"
     },
     "output_type": "display_data"
    }
   ],
   "source": [
    "# plt.boxplot(df_act_combined[\"Composite_mean\"])\n",
    "\n",
    "ax = df_act_combined[\"Composite\"].hist(bins = 25)"
   ]
  },
  {
   "cell_type": "markdown",
   "metadata": {},
   "source": [
    "# --- SAT Analysis ---"
   ]
  },
  {
   "cell_type": "code",
   "execution_count": null,
   "metadata": {},
   "outputs": [],
   "source": [
    "# Code:\n",
    "\n",
    "sat17 = pd.read_csv('../data/sat_2017.csv')\n",
    "sat18 = pd.read_csv('../data/sat_2018.csv')\n",
    "sat19 = pd.read_csv('../data/sat_2019.csv')\n",
    "sat18_ca = pd.read_csv('../data/sat_2019_ca.csv')\n",
    "sat_act_bycollege = pd.read_csv('../data/sat_act_by_college.csv')\n",
    "sat19_bymajor = pd.read_csv('../data/sat_2019_by_intended_college_major.csv')\n",
    "\n",
    "\n",
    "states_info = pd.read_csv('../data/states.csv')\n",
    "\n",
    "df_states_info = pd.read_csv('../data/states.csv')\n",
    "df_states_info[\"State\"] = df_states_info[\"State\"].str.title()"
   ]
  },
  {
   "cell_type": "code",
   "execution_count": null,
   "metadata": {},
   "outputs": [],
   "source": []
  },
  {
   "cell_type": "code",
   "execution_count": null,
   "metadata": {},
   "outputs": [],
   "source": [
    "# renaming column names to standardize across the 3 SAT df\n",
    "df_sat_2017.rename(columns = {\"Evidence-Based Reading and Writing\": \"EBRW\"}, inplace=True)\n",
    "df_sat_2018.rename(columns = {\"Evidence-Based Reading and Writing\": \"EBRW\"}, inplace=True)\n",
    "df_sat_2019.rename(columns = {\"Participation Rate\" : \"Participation\"}, inplace=True)\n",
    "# adds Year column to the 3 SAT df\n",
    "df_sat_2017[\"Year\"], df_sat_2018[\"Year\"], df_sat_2019[\"Year\"] = \"2017\", \"2018\", \"2019\"\n",
    "\n",
    "\n",
    "# checks if column names are the same for all 3 df\n",
    "(df_sat_2017.columns == df_sat_2018.columns).all() and (df_sat_2018.columns == df_sat_2019.columns).all()\n",
    "\n",
    "# standardize State names across 3 df:\n",
    "df_sat_2017[\"State\"] = sorted(df_sat_2017[\"State\"].str.title())\n",
    "df_sat_2018[\"State\"] = sorted(df_sat_2018[\"State\"].str.title())\n",
    "df_sat_2019[\"State\"] = sorted(df_sat_2019[\"State\"].str.title())\n",
    "\n",
    "# function for finding the additional States between 2 datasets:\n",
    "def func_extra_states(df1, df2):\n",
    "    list_extra_states = []\n",
    "    df3 = df1.merge(df2, on=\"State\", how=\"outer\")\n",
    "    for i in range(len(df3)):\n",
    "        if df3.iloc[i].isnull().any():\n",
    "            list_extra_states.append(df3[\"State\"][i])\n",
    "    return list_extra_states\n",
    "    \n",
    "func_extra_states(df_sat_2017, df_sat_2019)\n",
    "\n",
    "# remove additional states in _2019\n",
    "df_sat_2019 = df_sat_2019.drop(_2019[_2019[\"State\"] == 'Puerto Rico'].index)\n",
    "df_sat_2019 = df_sat_2019.drop(_2019[_2019[\"State\"] == 'Virgin Islands'].index)\n",
    "df_sat_2019.reset_index(drop = True, inplace = True)\n",
    "\n",
    "# merge all 3 SAT df:\n",
    "df_sat_combined = df_sat_2017.merge(df_sat_2018, on = \"State\", suffixes = (\" 2017\", \" 2018\"))\n",
    "df_sat_combined = df_sat_combined.merge(df_sat_2019, on = \"State\", suffixes = (None, \" 2019\"))\n",
    "df_sat_combined.columns = ['State', 'Participation 2017', 'EBRW 2017', 'Math 2017', 'Total 2017', 'Year',\n",
    "                           'Participation 2018', 'EBRW 2018', 'Math 2018', 'Total 2018', 'Year',\n",
    "                           'Participation 2019', 'EBRW 2019', 'Math 2019', 'Total 2019', 'Year']\n",
    "\n",
    "df_sat_combined.head(1)\n",
    "\n",
    "# - For Participation columns: percentage must be an float\n",
    "df_sat_combined[\"Participation 2017\"] = df_sat_combined[\"Participation 2017\"].map(data_cleaning)\n",
    "df_sat_combined[\"Participation 2018\"] = df_sat_combined[\"Participation 2018\"].map(data_cleaning)\n",
    "df_sat_combined[\"Participation 2019\"] = df_sat_combined[\"Participation 2019\"].map(data_cleaning)\n",
    "\n",
    "# merge state info into _combined:\n",
    "df_sat_combined = df_sat_combined.merge(df_states_info, on=\"State\")\n",
    "\n",
    "\n"
   ]
  },
  {
   "cell_type": "code",
   "execution_count": null,
   "metadata": {},
   "outputs": [],
   "source": [
    "# check if Total column is calculated correctly (EBRW + Math = Total)\n",
    "x = df_sat_combined[abs((df_sat_combined[\"EBRW 2017\"] + df_sat_combined[\"Math 2017\"]) - df_sat_combined[\"Total 2017\"]) > 0]\n",
    "len(x)\n",
    "\n",
    "x = df_sat_combined[abs((df_sat_combined[\"EBRW 2017\"] + df_sat_combined[\"Math 2017\"]) != df_sat_combined[\"Total 2017\"]) > 0]\n",
    "len(x)"
   ]
  },
  {
   "cell_type": "markdown",
   "metadata": {},
   "source": [
    "### --- SAT Analysis using by_group('Region') ---\n"
   ]
  },
  {
   "cell_type": "code",
   "execution_count": null,
   "metadata": {},
   "outputs": [],
   "source": [
    "df_sat_byregion = _combined.groupby(\"Region\")\n",
    "# _byregion[\"Total 2019\"].agg(['max', 'min', 'median','count'])\n",
    "\n",
    "df_region_mean = df_sat_byregion.mean()\n",
    "\n",
    "df_region_mean.head()"
   ]
  },
  {
   "cell_type": "code",
   "execution_count": null,
   "metadata": {},
   "outputs": [],
   "source": [
    "_byregion = _combined.groupby(\"Region\")\n",
    "# _byregion[\"Total 2019\"].agg(['max', 'min', 'median','count'])\n",
    "\n",
    "df_region_mean = _byregion.mean()\n",
    "\n",
    "# plot bar chart\n",
    "part = df_region_mean[\"Participation 2019\"]\n",
    "score = df_region_mean[\"Total 2019\"]\n",
    "\n",
    "xpos = np.arange(len(df_region_mean))\n",
    "plt.xticks(xpos, df_region_mean.index)\n",
    "plt.title(\"Participation Rate by Region\")\n",
    "plt.bar(xpos-0.2, part, width = 0.4, label = \"Mean Participation 2019\")\n",
    "plt.bar(xpos+0.2, score, width = 0.4, label = \"Mean Total Score 2019\")\n",
    "plt.legend(fontsize = \"small\")\n"
   ]
  },
  {
   "cell_type": "markdown",
   "metadata": {},
   "source": [
    "##### It is observed that there is a huge dicrepancy in Participation rates between the different regions, Midwest seems to be lacking way behind while Northeast seems to be having much higher participation rates. Pushing for more SAT tests to be conduted in the Midwest may help for a fairer nationwide opportunity. "
   ]
  },
  {
   "cell_type": "code",
   "execution_count": null,
   "metadata": {},
   "outputs": [],
   "source": [
    "# for i in df_act_combined[\"State\"]:\n",
    "#     if i in df_states_info[\"State\"]:\n",
    "#         print(i)\n",
    "A = df_act_combined[\"State\"].drop_duplicates()\n",
    "A = sorted(A.drop([0]))\n",
    "B = sorted(df_states_info[\"State\"])\n",
    "\n",
    "\n",
    "# df = pd.DataFrame([A,B])\n",
    "# df\n",
    "\n",
    "#function to compare the State names between 2 dataframe list \n",
    "# def compare_df(df):\n",
    "#     for i in range(len(df.columns)):\n",
    "#         if df[i][0] != df[i][1]:\n",
    "#             print(df[i][0], df[i][1])\n",
    "\n",
    "# compare_df(df)"
   ]
  },
  {
   "cell_type": "code",
   "execution_count": null,
   "metadata": {},
   "outputs": [],
   "source": []
  },
  {
   "cell_type": "code",
   "execution_count": null,
   "metadata": {},
   "outputs": [],
   "source": [
    "# def side_by_side(*objs, **kwds):\n",
    "#     ''' Une fonction print objects side by side '''\n",
    "#     from pandas.io.formats.printing import adjoin\n",
    "#     space = kwds.get('space', 4)\n",
    "#     reprs = [repr(obj).split('\\n') for obj in objs]\n",
    "#     print(adjoin(space, *reprs))\n",
    "# side_by_side(df_states_info[\"State\"],df_act_combined[\"State\"].drop_duplicates())\n"
   ]
  },
  {
   "cell_type": "code",
   "execution_count": null,
   "metadata": {},
   "outputs": [],
   "source": []
  },
  {
   "cell_type": "code",
   "execution_count": null,
   "metadata": {},
   "outputs": [],
   "source": []
  },
  {
   "cell_type": "code",
   "execution_count": null,
   "metadata": {},
   "outputs": [],
   "source": []
  },
  {
   "cell_type": "markdown",
   "metadata": {},
   "source": [
    "### Data Dictionary\n",
    "\n",
    "Now that we've fixed our data, and given it appropriate names, let's create a [data dictionary](http://library.ucmerced.edu/node/10249). \n",
    "\n",
    "A data dictionary provides a quick overview of features/variables/columns, alongside data types and descriptions. The more descriptive you can be, the more useful this document is.\n",
    "\n",
    "Example of a Fictional Data Dictionary Entry: \n",
    "\n",
    "|Feature|Type|Dataset|Description|\n",
    "|---|---|---|---|\n",
    "|**county_pop**|*integer*|2010 census|The population of the county (units in thousands, where 2.5 represents 2500 people).| \n",
    "|**per_poverty**|*float*|2010 census|The percent of the county over the age of 18 living below the 200% of official US poverty rate (units percent to two decimal places 98.10 means 98.1%)|\n",
    "\n",
    "[Here's a quick link to a short guide for formatting markdown in Jupyter notebooks](https://jupyter-notebook.readthedocs.io/en/stable/examples/Notebook/Working%20With%20Markdown%20Cells.html).\n",
    "\n",
    "Provided is the skeleton for formatting a markdown table, with columns headers that will help you create a data dictionary to quickly summarize your data, as well as some examples. **This would be a great thing to copy and paste into your custom README for this project.**\n",
    "\n",
    "*Note*: if you are unsure of what a feature is, check the source of the data! This can be found in the README."
   ]
  },
  {
   "cell_type": "markdown",
   "metadata": {},
   "source": [
    "**To-Do:** *Edit the table below to create your own data dictionary for the datasets you chose.*\n",
    "\n",
    "|Feature|Type|Dataset|Description|\n",
    "|---|---|---|---|\n",
    "|column name|int/float/object|ACT/SAT|This is an example| \n"
   ]
  },
  {
   "cell_type": "code",
   "execution_count": null,
   "metadata": {},
   "outputs": [],
   "source": [
    "`"
   ]
  },
  {
   "cell_type": "markdown",
   "metadata": {},
   "source": [
    "## Exploratory Data Analysis\n",
    "\n",
    "Complete the following steps to explore your data. You are welcome to do more EDA than the steps outlined here as you feel necessary:\n",
    "1. Summary Statistics.\n",
    "2. Use a **dictionary comprehension** to apply the standard deviation function you create in part 1 to each numeric column in the dataframe.  **No loops**.\n",
    "    - Assign the output to variable `sd` as a dictionary where: \n",
    "        - Each column name is now a key \n",
    "        - That standard deviation of the column is the value \n",
    "        - *Example Output :* `{'ACT_Math': 120, 'ACT_Reading': 120, ...}`\n",
    "3. Investigate trends in the data.\n",
    "    - Using sorting and/or masking (along with the `.head()` method to avoid printing our entire dataframe), consider questions relevant to your problem statement. Some examples are provided below (but feel free to change these questions for your specific problem):\n",
    "        - Which states have the highest and lowest participation rates for the 2017, 2019, or 2019 SAT and ACT?\n",
    "        - Which states have the highest and lowest mean total/composite scores for the 2017, 2019, or 2019 SAT and ACT?\n",
    "        - Do any states with 100% participation on a given test have a rate change year-to-year?\n",
    "        - Do any states show have >50% participation on *both* tests each year?\n",
    "        - Which colleges have the highest median SAT and ACT scores for admittance?\n",
    "        - Which California school districts have the highest and lowest mean test scores?\n",
    "    - **You should comment on your findings at each step in a markdown cell below your code block**. Make sure you include at least one example of sorting your dataframe by a column, and one example of using boolean filtering (i.e., masking) to select a subset of the dataframe."
   ]
  },
  {
   "cell_type": "code",
   "execution_count": null,
   "metadata": {},
   "outputs": [],
   "source": [
    "#Code:"
   ]
  },
  {
   "cell_type": "markdown",
   "metadata": {},
   "source": [
    "**To-Do:** *Edit this cell with your findings on trends in the data (step 3 above).*"
   ]
  },
  {
   "cell_type": "markdown",
   "metadata": {},
   "source": [
    "## Visualize the Data\n",
    "\n",
    "There's not a magic bullet recommendation for the right number of plots to understand a given dataset, but visualizing your data is *always* a good idea. Not only does it allow you to quickly convey your findings (even if you have a non-technical audience), it will often reveal trends in your data that escaped you when you were looking only at numbers. It is important to not only create visualizations, but to **interpret your visualizations** as well.\n",
    "\n",
    "**Every plot should**:\n",
    "- Have a title\n",
    "- Have axis labels\n",
    "- Have appropriate tick labels\n",
    "- Text is legible in a plot\n",
    "- Plots demonstrate meaningful and valid relationships\n",
    "- Have an interpretation to aid understanding\n",
    "\n",
    "Here is an example of what your plots should look like following the above guidelines. Note that while the content of this example is unrelated, the principles of visualization hold:\n",
    "\n",
    "![](https://snag.gy/hCBR1U.jpg)\n",
    "*Interpretation: The above image shows that as we increase our spending on advertising, our sales numbers also tend to increase. There is a positive correlation between advertising spending and sales.*\n",
    "\n",
    "---\n",
    "\n",
    "Here are some prompts to get you started with visualizations. Feel free to add additional visualizations as you see fit:\n",
    "1. Use Seaborn's heatmap with pandas `.corr()` to visualize correlations between all numeric features.\n",
    "    - Heatmaps are generally not appropriate for presentations, and should often be excluded from reports as they can be visually overwhelming. **However**, they can be extremely useful in identify relationships of potential interest (as well as identifying potential collinearity before modeling).\n",
    "    - Please take time to format your output, adding a title. Look through some of the additional arguments and options. (Axis labels aren't really necessary, as long as the title is informative).\n",
    "2. Visualize distributions using histograms. If you have a lot, consider writing a custom function and use subplots.\n",
    "    - *OPTIONAL*: Summarize the underlying distributions of your features (in words & statistics)\n",
    "         - Be thorough in your verbal description of these distributions.\n",
    "         - Be sure to back up these summaries with statistics.\n",
    "         - We generally assume that data we sample from a population will be normally distributed. Do we observe this trend? Explain your answers for each distribution and how you think this will affect estimates made from these data.\n",
    "3. Plot and interpret boxplots. \n",
    "    - Boxplots demonstrate central tendency and spread in variables. In a certain sense, these are somewhat redundant with histograms, but you may be better able to identify clear outliers or differences in IQR, etc.\n",
    "    - Multiple values can be plotted to a single boxplot as long as they are of the same relative scale (meaning they have similar min/max values).\n",
    "    - Each boxplot should:\n",
    "        - Only include variables of a similar scale\n",
    "        - Have clear labels for each variable\n",
    "        - Have appropriate titles and labels\n",
    "4. Plot and interpret scatter plots to view relationships between features. Feel free to write a custom function, and subplot if you'd like. Functions save both time and space.\n",
    "    - Your plots should have:\n",
    "        - Two clearly labeled axes\n",
    "        - A proper title\n",
    "        - Colors and symbols that are clear and unmistakable\n",
    "5. Additional plots of your choosing.\n",
    "    - Are there any additional trends or relationships you haven't explored? Was there something interesting you saw that you'd like to dive further into? It's likely that there are a few more plots you might want to generate to support your narrative and recommendations that you are building toward. **As always, make sure you're interpreting your plots as you go**."
   ]
  },
  {
   "cell_type": "code",
   "execution_count": null,
   "metadata": {},
   "outputs": [],
   "source": [
    "# Code"
   ]
  },
  {
   "cell_type": "markdown",
   "metadata": {},
   "source": [
    "## Conclusions and Recommendations"
   ]
  },
  {
   "cell_type": "code",
   "execution_count": null,
   "metadata": {},
   "outputs": [],
   "source": [
    "df_act_2017.head(1)\n",
    "# dropping columns that do not exist in 2018 and 2019 data\n",
    "# df_act_2017.drop([\"English\", \"Math\", \"Reading\", \"Science\"], axis = 1, inplace=True)\n",
    "# adding columns for \"Year\" in order to concatentate all 3 df into 1\n",
    "df_act_2017[\"Year\"] = \"2017\"\n",
    "\n",
    "# drop any duplicate values (i.e. when all column values are the same except index)\n",
    "df_act_2018.drop_duplicates(inplace=True)\n",
    "df_act_2018.head()"
   ]
  },
  {
   "cell_type": "markdown",
   "metadata": {},
   "source": [
    "Based on your exploration of the data, what are you key takeaways and recommendations? Make sure to answer your question of interest or address your problem statement here."
   ]
  },
  {
   "cell_type": "code",
   "execution_count": null,
   "metadata": {},
   "outputs": [],
   "source": [
    "df_act_2019.head(1)\n",
    "df_act_2019[\"Year\"] = \"2019\"\n"
   ]
  },
  {
   "cell_type": "code",
   "execution_count": null,
   "metadata": {},
   "outputs": [],
   "source": [
    "df_act_combined = df_act_2017.append([df_act_2018,df_act_2019]) # combines all 3 act datasets into 1\n",
    "df_act_combined.set_index(\"Year\", inplace=True) # set index to year\n",
    "\n",
    "df_act_combined[\"State\"].duplicated()"
   ]
  },
  {
   "cell_type": "code",
   "execution_count": null,
   "metadata": {},
   "outputs": [],
   "source": [
    "df_sat_2017.head(1)\n",
    "df_sat_2017.rename(columns = {\"Evidence-Based Reading and Writing\": \"EBRW\"}, inplace=True)\n",
    "df_sat_2017.head(1)\n"
   ]
  },
  {
   "cell_type": "code",
   "execution_count": null,
   "metadata": {},
   "outputs": [],
   "source": [
    "df_sat_2018.head(1)\n",
    "df_sat_2018.rename(columns = {\"Evidence-Based Reading and Writing\": \"EBRW\"}, inplace=True)\n",
    "df_sat_2018.head(1)\n"
   ]
  },
  {
   "cell_type": "code",
   "execution_count": null,
   "metadata": {},
   "outputs": [],
   "source": [
    "df_sat_2019.head(1)\n",
    "df_sat_2019.rename(columns = {\"Participation Rate\" : \"Participation\"}, inplace=True)\n",
    "df_sat_2019.head(1)\n"
   ]
  },
  {
   "cell_type": "markdown",
   "metadata": {},
   "source": [
    "**To-Do:** *Edit this cell with your conclusions and recommendations.*"
   ]
  },
  {
   "cell_type": "markdown",
   "metadata": {},
   "source": [
    "Don't forget to create your README!\n",
    "\n",
    "**To-Do:** *If you combine your problem statement, data dictionary, brief summary of your analysis, and conclusions/recommendations, you have an amazing README.md file that quickly aligns your audience to the contents of your project.* Don't forget to cite your data sources!"
   ]
  },
  {
   "cell_type": "code",
   "execution_count": null,
   "metadata": {},
   "outputs": [],
   "source": []
  },
  {
   "cell_type": "code",
   "execution_count": null,
   "metadata": {},
   "outputs": [],
   "source": []
  },
  {
   "cell_type": "code",
   "execution_count": null,
   "metadata": {},
   "outputs": [],
   "source": []
  },
  {
   "cell_type": "code",
   "execution_count": null,
   "metadata": {},
   "outputs": [],
   "source": []
  }
 ],
 "metadata": {
  "anaconda-cloud": {},
  "kernelspec": {
   "display_name": "Python 3",
   "language": "python",
   "name": "python3"
  },
  "language_info": {
   "codemirror_mode": {
    "name": "ipython",
    "version": 3
   },
   "file_extension": ".py",
   "mimetype": "text/x-python",
   "name": "python",
   "nbconvert_exporter": "python",
   "pygments_lexer": "ipython3",
   "version": "3.8.8"
  }
 },
 "nbformat": 4,
 "nbformat_minor": 4
}
